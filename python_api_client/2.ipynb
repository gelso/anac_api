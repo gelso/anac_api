{
 "cells": [
  {
   "cell_type": "markdown",
   "metadata": {},
   "source": [
    "### Gruppo 1\n",
    "\n",
    "Questo gruppo di operations è approssimativamente lo stesso previsto dal client in Postman"
   ]
  },
  {
   "cell_type": "markdown",
   "metadata": {},
   "source": [
    "> **Configurazione**"
   ]
  },
  {
   "cell_type": "code",
   "execution_count": 2,
   "metadata": {},
   "outputs": [],
   "source": [
    "from __future__ import print_function\n",
    "import time\n",
    "import swagger_client\n",
    "from swagger_client.rest import ApiException\n",
    "from pprint import pprint"
   ]
  },
  {
   "cell_type": "code",
   "execution_count": 3,
   "metadata": {},
   "outputs": [],
   "source": [
    "# Configure API key authorization: apiKeyAuth\n",
    "configuration = swagger_client.Configuration()\n",
    "configuration.api_key['apiKeyAuth'] = 'YOUR_API_KEY'\n",
    "# Uncomment below to setup prefix (e.g. Bearer) for API key, if needed\n",
    "# configuration.api_key_prefix['apiKeyAuth'] = 'Bearer'"
   ]
  },
  {
   "cell_type": "code",
   "execution_count": 4,
   "metadata": {},
   "outputs": [],
   "source": [
    "# configuration.host = \"https://api.example.com/api/v1\"\n",
    "configuration.host = \"http://192.168.10.62:8080\"\n",
    "# https://repositorydocument.swagger.io/api/v1\n",
    "# 192.168.10.62:8080"
   ]
  },
  {
   "cell_type": "markdown",
   "metadata": {},
   "source": [
    ">**get**\n",
    "[/recupera-elenco-tipologiche](https://web.postman.co/workspace/My-Workspace~1cc83c07-1c4c-4165-8d9e-85a14e0d0eba/request/31183173-22ff014b-112d-4bee-af0b-5bd145ce4123)"
   ]
  },
  {
   "cell_type": "code",
   "execution_count": 12,
   "metadata": {},
   "outputs": [],
   "source": [
    "# create an instance of the API class\n",
    "api_instance = swagger_client.CodeListApi(swagger_client.ApiClient(configuration))\n",
    "page = 1 # int | numero della pagina da visualizzare (optional) (default to 1)\n",
    "per_page = 20 # int | numero di elementi per pagina (optional) (default to 20)"
   ]
  },
  {
   "cell_type": "code",
   "execution_count": 13,
   "metadata": {},
   "outputs": [
    {
     "name": "stdout",
     "output_type": "stream",
     "text": [
      "{'current_page': -2147483648,\n",
      " 'detail': 'Object Validation Error',\n",
      " 'element_page': -2147483648,\n",
      " 'instance': 'http://example.com',\n",
      " 'result': [{'descrizione': 'cpv', 'id_tipologica': 'CPV'}],\n",
      " 'status': 400,\n",
      " 'title': 'There was a validation error',\n",
      " 'tot_pages': -2147483648,\n",
      " 'tot_rows': -2147483648,\n",
      " 'type': 'about:blank'}\n"
     ]
    }
   ],
   "source": [
    "try:\n",
    "    # API Rest per il recupero dell'elenco delle tipologiche disponibili. SINCRONO\n",
    "    api_response = api_instance.id_recupera_elenco_tipologiche(page=page, per_page=per_page)\n",
    "    pprint(api_response)\n",
    "except ApiException as e:\n",
    "    print(\"Exception when calling CodeListApi->id_recupera_elenco_tipologiche: %s\\n\" % e)"
   ]
  },
  {
   "cell_type": "markdown",
   "metadata": {},
   "source": [
    ">**get**\n",
    "[/recupera-tipologica](https://web.postman.co/workspace/My-Workspace~1cc83c07-1c4c-4165-8d9e-85a14e0d0eba/request/31183173-8415db27-d087-48eb-bd6e-6e0e4706ce86)"
   ]
  },
  {
   "cell_type": "code",
   "execution_count": 14,
   "metadata": {},
   "outputs": [],
   "source": [
    "# create an instance of the API class\n",
    "api_instance = swagger_client.CodeListApi(swagger_client.ApiClient(configuration))\n",
    "id_tipologica = 'CPV' # str | Identificativo della tipologica\n",
    "codice = 'codice_example' # str | Codice del valore che si vuole recuperare dalla tipologica"
   ]
  },
  {
   "cell_type": "code",
   "execution_count": 15,
   "metadata": {},
   "outputs": [
    {
     "name": "stdout",
     "output_type": "stream",
     "text": [
      "{'detail': 'Object Validation Error',\n",
      " 'instance': 'http://example.com',\n",
      " 'status': 400,\n",
      " 'tipologica': None,\n",
      " 'title': 'There was a validation error',\n",
      " 'type': 'about:blank'}\n"
     ]
    }
   ],
   "source": [
    "try:\n",
    "    # API Rest per il recupero di un singolo item di una tipologica. SINCRONO\n",
    "    api_response = api_instance.id_recupera_item_tipologica(id_tipologica, codice)\n",
    "    pprint(api_response)\n",
    "except ApiException as e:\n",
    "    print(\"Exception when calling CodeListApi->id_recupera_item_tipologica: %s\\n\" % e)\n",
    "\n",
    "# il risultato è un errore, identico a postman\n"
   ]
  },
  {
   "cell_type": "markdown",
   "metadata": {},
   "source": [
    ">**get** [/recupera-valore-tipologica](https://web.postman.co/workspace/My-Workspace~1cc83c07-1c4c-4165-8d9e-85a14e0d0eba/request/31183173-671c98d5-e84d-438a-87a2-c4a825efa3f7)"
   ]
  },
  {
   "cell_type": "code",
   "execution_count": 16,
   "metadata": {},
   "outputs": [
    {
     "name": "stdout",
     "output_type": "stream",
     "text": [
      "{'current_page': -2147483648,\n",
      " 'detail': 'Object Validation Error',\n",
      " 'element_page': -2147483648,\n",
      " 'instance': 'http://example.com',\n",
      " 'status': 400,\n",
      " 'tipologica': {'descrizione': 'cpv', 'elenco': [None], 'id_tipologica': 'CPV'},\n",
      " 'title': 'There was a validation error',\n",
      " 'tot_pages': -2147483648,\n",
      " 'tot_rows': -2147483648,\n",
      " 'type': 'about:blank'}\n"
     ]
    }
   ],
   "source": [
    "id_tipologica = 'id_tipologica_example' # str | Identificativo della tipologica\n",
    "data_inizio = '2013-10-20T19:20:30+01:00' # datetime | Data di inizio (A date-time specified by ISO 8601 as profiled by RFC 3339) (optional)\n",
    "data_fine = '2013-10-20T19:20:30+01:00' # datetime | Data di fine (A date-time specified by ISO 8601 as profiled by RFC 3339) (optional)\n",
    "page = 1 # int | numero della pagina da visualizzare (optional) (default to 1)\n",
    "per_page = 20 # int | numero di elementi per pagina (optional) (default to 20)\n",
    "\n",
    "try:\n",
    "    # API Rest per il recupero di una specifica tipologica. SINCRONO\n",
    "    api_response = api_instance.id_recupera_tipologica(id_tipologica, data_inizio=data_inizio, data_fine=data_fine, page=page, per_page=per_page)\n",
    "    pprint(api_response)\n",
    "except ApiException as e:\n",
    "    print(\"Exception when calling CodeListApi->id_recupera_tipologica: %s\\n\" % e)"
   ]
  },
  {
   "cell_type": "markdown",
   "metadata": {},
   "source": [
    ">**get** [/ricerca-appalto](https://web.postman.co/workspace/My-Workspace~1cc83c07-1c4c-4165-8d9e-85a14e0d0eba/request/31183173-2ee65367-8b2a-4523-8a59-9fcae8109790)"
   ]
  },
  {
   "cell_type": "code",
   "execution_count": 6,
   "metadata": {},
   "outputs": [
    {
     "name": "stdout",
     "output_type": "stream",
     "text": [
      "{'current_page': -2147483648,\n",
      " 'detail': 'Object Validation Error',\n",
      " 'element_page': -2147483648,\n",
      " 'instance': 'http://example.com',\n",
      " 'result': [{'codice_appalto': 'rt5677tTy7',\n",
      "             'data_creazione': datetime.datetime(2022, 1, 23, 12, 2, 5, tzinfo=tzutc()),\n",
      "             'id_appalto': 'f81d4fae-7dec-11d0-a765-00a0c91e6bf6',\n",
      "             'lotti': [{'cig': '9050626CD6',\n",
      "                        'importo': 'string',\n",
      "                        'lot_identifier': 'string',\n",
      "                        'oggetto': 'Servizio di assistenza e supporto '\n",
      "                                   'specialistico per rilievo aereo ed '\n",
      "                                   'elaborazione dati',\n",
      "                        'oggetto_contratto': {'codice': 'string',\n",
      "                                              'id_tipologica': 'string'},\n",
      "                        'oggetto_principale_contratto': {'codice': 'string',\n",
      "                                                         'id_tipologica': 'string'},\n",
      "                        'stato': {'codice': 'string',\n",
      "                                  'id_tipologica': 'string'}}],\n",
      "             'oggetto': 'Fornitura di strumento XX per XX',\n",
      "             'stato': {'codice': 'string', 'id_tipologica': 'string'}}],\n",
      " 'status': 400,\n",
      " 'title': 'There was a validation error',\n",
      " 'tot_pages': -2147483648,\n",
      " 'tot_rows': -2147483648,\n",
      " 'type': 'about:blank'}\n"
     ]
    }
   ],
   "source": [
    "# create an instance of the API class\n",
    "api_instance = swagger_client.ComunicaAppaltoApi(swagger_client.ApiClient(configuration))\n",
    "codice_appalto = 'codice_appalto_example' # str | Identificativo univoco dell'appalto definito dalla Stazione Appaltante (optional)\n",
    "cig = 'cig_example' # str | Identificativo univoco Appalto-Lotto rilasciato da ANAC (optional)\n",
    "lot_identifier = 'lot_identifier_example' # str | Id univoco del lotto generato dalla stazione appaltante - corrisponde al campo bt-137 - Purpose Lot Identifier del TED - Se valorizzato, il parametro richiedere obbligatoriamente la valorizzazione del codiceAppalto o cig. (optional)\n",
    "stato = 'stato_example' # str | Codice Stato dell'Appalto - Se valorizzato, il parametro richiedere obbligatoriamente la valorizzazione di almeno un altro parametro - fare riferimento ai valori contenuti nel file [statoAppalto.json](https://raw.githubusercontent.com/anticorruzione/npa/main/docs/modello-dati/tipologiche/statoAppalto.json) (optional)\n",
    "data_creazione_da = '2013-10-20T19:20:30+01:00' # datetime | Data di crezione dell'Appalto - intervallo successivo (A date-time specified by ISO 8601 as profiled by RFC 3339) (optional)\n",
    "data_creazione_a = '2013-10-20T19:20:30+01:00' # datetime | Data di crezione dell'Appalto - intervallo precedente (A date-time specified by ISO 8601 as profiled by RFC 3339) (optional)\n",
    "page = 1 # int | numero della pagina da visualizzare (optional) (default to 1)\n",
    "per_page = 20 # int | numero di elementi per pagina (optional) (default to 20)\n",
    "\n",
    "try:\n",
    "    # API Rest per la ricerca delle Gare-Lotto dell'Appalto. SINCRONO\n",
    "    api_response = api_instance.id_appalto_ricerca(codice_appalto=codice_appalto, cig=cig, lot_identifier=lot_identifier, stato=stato, data_creazione_da=data_creazione_da, data_creazione_a=data_creazione_a, page=page, per_page=per_page)\n",
    "    pprint(api_response)\n",
    "except ApiException as e:\n",
    "    print(\"Exception when calling ComunicaAppaltoApi->id_appalto_ricerca: %s\\n\" % e)"
   ]
  },
  {
   "cell_type": "markdown",
   "metadata": {},
   "source": [
    ">**get** [/consulta-appalto](https://web.postman.co/workspace/My-Workspace~1cc83c07-1c4c-4165-8d9e-85a14e0d0eba/request/31183173-2f9cf793-76d7-4eca-8699-76e306d1f802)"
   ]
  },
  {
   "cell_type": "code",
   "execution_count": 6,
   "metadata": {},
   "outputs": [
    {
     "name": "stdout",
     "output_type": "stream",
     "text": [
      "{'appalto': {'id_appalto': 'f81d4fae-7dec-11d0-a765-00a0c91e6bf6',\n",
      "             'scheda': {'body': {'anacForm': {'appalto': {'categorieMerceologiche': [{'codice': 'string',\n",
      "                                                                                      'idTipologica': 'string'}],\n",
      "                                                          'codiceAppalto': 'string',\n",
      "                                                          'idAppalto': 'f81d4fae-7dec-11d0-a765-00a0c91e6bf6',\n",
      "                                                          'idPianificazione': 'f690a8b8-38a2-49f4-bdb3-04faac617bcf',\n",
      "                                                          'linkDocumenti': 'string',\n",
      "                                                          'motivazioneCIG': {'codice': 'string',\n",
      "                                                                             'idTipologica': 'string'},\n",
      "                                                          'motivoUrgenza': {'codice': 'string',\n",
      "                                                                            'idTipologica': 'string'},\n",
      "                                                          'strumentiSvolgimentoProcedure': {'codice': 'string',\n",
      "                                                                                            'idTipologica': 'string'},\n",
      "                                                          'termineRidottoAvvisoPreinformazione': True},\n",
      "                                              'lotti': [{'acquisizioneCup': True,\n",
      "                                                         'afferenteInvestimentiPNRR': True,\n",
      "                                                         'categoria': {'codice': 'string',\n",
      "                                                                       'idTipologica': 'string'},\n",
      "                                                         'categorieMerceologiche': [{'codice': 'string',\n",
      "                                                                                     'idTipologica': 'string'}],\n",
      "                                                         'ccnl': 'string',\n",
      "                                                         'codIstat': {'codice': 'string',\n",
      "                                                                      'idTipologica': 'string'},\n",
      "                                                         'condizioniNegoziata': [{'codice': 'string',\n",
      "                                                                                  'idTipologica': 'string'}],\n",
      "                                                         'contrattiDisposizioniParticolari': {'codice': 'string',\n",
      "                                                                                              'idTipologica': 'string'},\n",
      "                                                         'cupLotto': ['string'],\n",
      "                                                         'finanziamenti': [{'importo': -1.7976931348623157e+308,\n",
      "                                                                            'tipoFinanziamento': {'codice': 'string',\n",
      "                                                                                                  'idTipologica': 'string'}}],\n",
      "                                                         'iniziativeNonSoddisfacenti': True,\n",
      "                                                         'ipotesiCollegamento': {'cigCollegato': ['string'],\n",
      "                                                                                 'motivoCollegamento': {'codice': 'string',\n",
      "                                                                                                        'idTipologica': 'string'}},\n",
      "                                                         'lotIdentifier': 'string',\n",
      "                                                         'modalitaAcquisizione': {'codice': 'string',\n",
      "                                                                                  'idTipologica': 'string'},\n",
      "                                                         'oggettoPrincipaleContratto': {'codice': 'string',\n",
      "                                                                                        'idTipologica': 'string'},\n",
      "                                                         'opzioniRinnovi': True,\n",
      "                                                         'paritaDiGenereGenerazionale': {'derogaAQ': True,\n",
      "                                                                                         'misurePremiali': [{'codice': 'string',\n",
      "                                                                                                             'idTipologica': 'string'}],\n",
      "                                                                                         'motivoDeroga': [{'codice': 'string',\n",
      "                                                                                                           'idTipologica': 'string'}],\n",
      "                                                                                         'quota30PerCento': 'SI',\n",
      "                                                                                         'quotaInferioreOccupFemminile': -1.7976931348623157e+308,\n",
      "                                                                                         'quotaInferioreOccupGiovanile': -1.7976931348623157e+308},\n",
      "                                                         'prestazioniComprese': {'codice': 'string',\n",
      "                                                                                 'idTipologica': 'string'},\n",
      "                                                         'quadroEconomicoStandard': {'impForniture': -1.7976931348623157e+308,\n",
      "                                                                                     'impLavori': -1.7976931348623157e+308,\n",
      "                                                                                     'impProgettazione': -1.7976931348623157e+308,\n",
      "                                                                                     'impServizi': -1.7976931348623157e+308,\n",
      "                                                                                     'impTotaleSicurezza': -1.7976931348623157e+308,\n",
      "                                                                                     'sommeADisposizione': -1.7976931348623157e+308,\n",
      "                                                                                     'sommeOpzioniRinnovi': -1.7976931348623157e+308,\n",
      "                                                                                     'sommeRipetizioni': -1.7976931348623157e+308,\n",
      "                                                                                     'ulterioriSommeNoRibasso': -1.7976931348623157e+308},\n",
      "                                                         'ripetizioniEConsegneComplementari': True,\n",
      "                                                         'saNonSoggettaObblighi24Dicembre2015': True,\n",
      "                                                         'servizioPubblicoLocale': True,\n",
      "                                                         'strumentiElettroniciSpecifici': True,\n",
      "                                                         'tipologiaLavoro': [{'codice': 'string',\n",
      "                                                                              'idTipologica': 'string'}]}],\n",
      "                                              'stazioniAppaltanti': [{'codiceAusa': 'string',\n",
      "                                                                      'codiceCentroCosto': 'string',\n",
      "                                                                      'codiceFiscale': 'string',\n",
      "                                                                      'funzioniSvolte': [{'codice': 'string',\n",
      "                                                                                          'idTipologica': 'string'}],\n",
      "                                                                      'saTitolare': True}]},\n",
      "                                 'eform': 'string',\n",
      "                                 'espd': 'string'},\n",
      "                        'codice': {'codice': 'string',\n",
      "                                   'id_tipologica': 'string'},\n",
      "                        'data_creazione': datetime.datetime(2022, 1, 23, 12, 2, 5, tzinfo=tzutc()),\n",
      "                        'id_scheda': 'f81d4fae-7dec-11d0-a765-00a0c91e6bf6',\n",
      "                        'stato': {'codice': 'string',\n",
      "                                  'id_tipologica': 'string'},\n",
      "                        'versione': '1.0'}},\n",
      " 'detail': 'Object Validation Error',\n",
      " 'instance': 'http://example.com',\n",
      " 'status': 400,\n",
      " 'title': 'There was a validation error',\n",
      " 'type': 'about:blank'}\n"
     ]
    }
   ],
   "source": [
    "# create an instance of the API class\n",
    "api_instance = swagger_client.ComunicaAppaltoApi(swagger_client.ApiClient(configuration))\n",
    "\n",
    "id_appalto = '38400000-8cf0-11bd-b23e-10b96e4ef00d' # str | Identificativo univoco dell'Appalto definito da ANAC alternativo al CIG. (A UUID specified by FC4122). (optional)\n",
    "cig = 'cig_example' # str | Identificativo univoco Gara-Lotto rilasciato da ANAC, alternativo all'idAppalto (optional)\n",
    "\n",
    "try:\n",
    "    # API Rest per il recupero del dettaglio dell'Appalto. SINCRONO\n",
    "    api_response = api_instance.id_appalto_dettaglio(id_appalto=id_appalto, cig=cig)\n",
    "    pprint(api_response)\n",
    "except ApiException as e:\n",
    "    print(\"Exception when calling ComunicaAppaltoApi->id_appalto_dettaglio: %s\\n\" % e)"
   ]
  },
  {
   "cell_type": "markdown",
   "metadata": {},
   "source": []
  },
  {
   "cell_type": "markdown",
   "metadata": {},
   "source": [
    ">**get** [/recupera-cig](https://web.postman.co/workspace/My-Workspace~1cc83c07-1c4c-4165-8d9e-85a14e0d0eba/request/31183173-a8eeb44a-3cab-4ea9-93c7-0cec834cea21)"
   ]
  },
  {
   "cell_type": "code",
   "execution_count": 7,
   "metadata": {},
   "outputs": [
    {
     "name": "stdout",
     "output_type": "stream",
     "text": [
      "{'current_page': -2147483648,\n",
      " 'detail': 'Object Validation Error',\n",
      " 'element_page': -2147483648,\n",
      " 'instance': 'http://example.com',\n",
      " 'result': [{'cig': '9050626CD6', 'lot_identifier': 'string'}],\n",
      " 'status': 400,\n",
      " 'title': 'There was a validation error',\n",
      " 'tot_pages': -2147483648,\n",
      " 'tot_rows': -2147483648,\n",
      " 'type': 'about:blank'}\n"
     ]
    }
   ],
   "source": [
    "# create an instance of the API class\n",
    "api_instance = swagger_client.ComunicaAppaltoApi(swagger_client.ApiClient(configuration))\n",
    "id_appalto = '38400000-8cf0-11bd-b23e-10b96e4ef00d' # str | Identificativo univoco dell'Appalto definito da ANAC\n",
    "page = 1 # int | numero della pagina da visualizzare (optional) (default to 1)\n",
    "per_page = 20 # int | numero di elementi per pagina (optional) (default to 20)\n",
    "\n",
    "try:\n",
    "    # API Rest per il recupero dei CIG generati da ANAC e assegnati ai lotti dell’Appalto. SINCRONO\n",
    "    api_response = api_instance.id_cig_recupera(id_appalto, page=page, per_page=per_page)\n",
    "    pprint(api_response)\n",
    "except ApiException as e:\n",
    "    print(\"Exception when calling ComunicaAppaltoApi->id_cig_recupera: %s\\n\" % e)"
   ]
  },
  {
   "cell_type": "markdown",
   "metadata": {},
   "source": [
    ">**post** [/crea-appalto](https://web.postman.co/workspace/My-Workspace~1cc83c07-1c4c-4165-8d9e-85a14e0d0eba/request/31183173-ae914004-b679-45d2-998c-ce5ac6f2a667)"
   ]
  },
  {
   "cell_type": "code",
   "execution_count": 11,
   "metadata": {},
   "outputs": [
    {
     "name": "stdout",
     "output_type": "stream",
     "text": [
      "Exception when calling ComunicaAppaltoApi->id_appalto_crea: (400)\n",
      "Reason: Bad Request\n",
      "HTTP response headers: HTTPHeaderDict({'Access-Control-Allow-Origin': '*', 'Access-Control-Allow-Headers': '*', 'Access-Control-Allow-Credentials': 'true', 'Access-Control-Expose-Headers': '*', 'sl-violations': '[{\"location\":[\"request\",\"body\"],\"severity\":\"Error\",\"code\":\"required\",\"message\":\"Request body must have required property \\'scheda\\'\"}]', 'X-RateLimit-Limit': '0', 'X-RateLimit-Remaining': '0', 'X-RateLimit-Reset': '0', 'Content-type': 'application/problem+json', 'Content-Length': '217', 'Date': 'Fri, 24 Nov 2023 16:15:16 GMT', 'Connection': 'keep-alive', 'Keep-Alive': 'timeout=5'})\n",
      "HTTP response body: b'{\"errori\":[{\"idTipologica\":\"string\",\"codice\":\"string\",\"dettaglio\":\"string\"}],\"instance\":\"http://example.com\",\"status\":400,\"title\":\"There was a validation error\",\"detail\":\"Object Validation Error\",\"type\":\"about:blank\"}'\n",
      "\n",
      "\n"
     ]
    }
   ],
   "source": [
    "# create an instance of the API class\n",
    "api_instance = swagger_client.ComunicaAppaltoApi(swagger_client.ApiClient(configuration))\n",
    "body = swagger_client.CreaAppaltoRequest() # CreaAppaltoRequest | Inserimento Appalto con tutti i dati aggiuntivi\n",
    "\n",
    "try:\n",
    "    # API Rest per la creazione di un Appalto. SINCRONO\n",
    "    api_response = api_instance.id_appalto_crea(body)\n",
    "    pprint(api_response)\n",
    "except ApiException as e:\n",
    "    print(\"Exception when calling ComunicaAppaltoApi->id_appalto_crea: %s\\n\" % e)"
   ]
  },
  {
   "cell_type": "markdown",
   "metadata": {},
   "source": [
    "Sto cercando di configurare un body utilizzabile per la POST descritta qui di seguito.\n",
    "\n",
    "`body = swagger_client.CreaAppaltoRequest(scheda=scheda_comunica_appalto)`\n",
    "\n",
    "Cerco la definizione della scheda nella sezione schemas; trovo dati appalto type.\n",
    "\n",
    "Sembra che le schede siano orientate a diversi tipi e fasi degli appalti. Ad esempio:\n",
    "\n",
    "1. **Per Appalti nei Settori Ordinari**: \n",
    "   - Se il tuo appalto è nei settori ordinari e si trova pari o sopra la soglia con l'intento di inviare l'eform al TED (Tenders Electronic Daily), potresti considerare una scheda come `PL1_1` (\"Scheda di pianificazione per appalti settori ordinari pari/sopra soglia con invio al TED dell'eform1\").\n",
    "\n",
    "2. **Per Appalti nei Settori Speciali**: \n",
    "   - Se l'appalto appartiene a settori speciali e si trova pari o sopra la soglia, una scheda come `PL1_2` (\"Scheda di pianificazione per appalti settori speciali pari/sopra soglia con invio al TED dell'eform2\") potrebbe essere appropriata.\n",
    "\n",
    "3. **Per Appalti nel Settore Difesa e Sicurezza**: \n",
    "   - Per appalti specifici nel settore della difesa e della sicurezza pari o sopra la soglia, la scheda `PL1_3` (\"Scheda di pianificazione per appalti settore difesa e sicurezza pari/sopra soglia con invio al TED dell'eform3\") sarebbe una scelta logica.\n",
    "\n",
    "Il contesto specifico del tuo appalto, come il settore di appartenenza, l'importo dell'appalto (sopra o sotto la soglia), e la necessità di inviare l'eform al TED, guiderà la tua scelta della scheda più adatta. Assicurati di selezionare una scheda che corrisponda al tipo di appalto che stai creando e che soddisfi tutti i requisiti legali e procedurali necessari."
   ]
  },
  {
   "cell_type": "code",
   "execution_count": 12,
   "metadata": {},
   "outputs": [],
   "source": [
    "from swagger_client.models import AnacFormPLBaseType, SchedaPL11Type\n"
   ]
  },
  {
   "cell_type": "code",
   "execution_count": 14,
   "metadata": {},
   "outputs": [
    {
     "ename": "ValueError",
     "evalue": "Invalid value for `appalto`, must not be `None`",
     "output_type": "error",
     "traceback": [
      "\u001b[0;31m---------------------------------------------------------------------------\u001b[0m",
      "\u001b[0;31mValueError\u001b[0m                                Traceback (most recent call last)",
      "\u001b[1;32m/home/andrea/scripts/python_api_client/2.ipynb Cell 25\u001b[0m line \u001b[0;36m2\n\u001b[1;32m      <a href='vscode-notebook-cell://wsl%2Bubuntu-20.04/home/andrea/scripts/python_api_client/2.ipynb#X40sdnNjb2RlLXJlbW90ZQ%3D%3D?line=0'>1</a>\u001b[0m \u001b[39m# Creazione dell'istanza di AnacFormA31Type e popolamento dei dati\u001b[39;00m\n\u001b[0;32m----> <a href='vscode-notebook-cell://wsl%2Bubuntu-20.04/home/andrea/scripts/python_api_client/2.ipynb#X40sdnNjb2RlLXJlbW90ZQ%3D%3D?line=1'>2</a>\u001b[0m anac_form_instance \u001b[39m=\u001b[39m AnacFormPLBaseType()\n\u001b[1;32m      <a href='vscode-notebook-cell://wsl%2Bubuntu-20.04/home/andrea/scripts/python_api_client/2.ipynb#X40sdnNjb2RlLXJlbW90ZQ%3D%3D?line=2'>3</a>\u001b[0m \u001b[39m# Popolare anac_form_instance con i dati necessari\u001b[39;00m\n",
      "File \u001b[0;32m~/scripts/python_api_client/swagger_client/models/anac_form_pl_base_type.py:45\u001b[0m, in \u001b[0;36mAnacFormPLBaseType.__init__\u001b[0;34m(self, appalto, lotti)\u001b[0m\n\u001b[1;32m     43\u001b[0m \u001b[39mself\u001b[39m\u001b[39m.\u001b[39m_lotti \u001b[39m=\u001b[39m \u001b[39mNone\u001b[39;00m\n\u001b[1;32m     44\u001b[0m \u001b[39mself\u001b[39m\u001b[39m.\u001b[39mdiscriminator \u001b[39m=\u001b[39m \u001b[39mNone\u001b[39;00m\n\u001b[0;32m---> 45\u001b[0m \u001b[39mself\u001b[39;49m\u001b[39m.\u001b[39;49mappalto \u001b[39m=\u001b[39m appalto\n\u001b[1;32m     46\u001b[0m \u001b[39mself\u001b[39m\u001b[39m.\u001b[39mlotti \u001b[39m=\u001b[39m lotti\n",
      "File \u001b[0;32m~/scripts/python_api_client/swagger_client/models/anac_form_pl_base_type.py:67\u001b[0m, in \u001b[0;36mAnacFormPLBaseType.appalto\u001b[0;34m(self, appalto)\u001b[0m\n\u001b[1;32m     60\u001b[0m \u001b[39m\u001b[39m\u001b[39m\"\"\"Sets the appalto of this AnacFormPLBaseType.\u001b[39;00m\n\u001b[1;32m     61\u001b[0m \n\u001b[1;32m     62\u001b[0m \n\u001b[1;32m     63\u001b[0m \u001b[39m:param appalto: The appalto of this AnacFormPLBaseType.  # noqa: E501\u001b[39;00m\n\u001b[1;32m     64\u001b[0m \u001b[39m:type: AppaltoPLBaseType\u001b[39;00m\n\u001b[1;32m     65\u001b[0m \u001b[39m\"\"\"\u001b[39;00m\n\u001b[1;32m     66\u001b[0m \u001b[39mif\u001b[39;00m appalto \u001b[39mis\u001b[39;00m \u001b[39mNone\u001b[39;00m:\n\u001b[0;32m---> 67\u001b[0m     \u001b[39mraise\u001b[39;00m \u001b[39mValueError\u001b[39;00m(\u001b[39m\"\u001b[39m\u001b[39mInvalid value for `appalto`, must not be `None`\u001b[39m\u001b[39m\"\u001b[39m)  \u001b[39m# noqa: E501\u001b[39;00m\n\u001b[1;32m     69\u001b[0m \u001b[39mself\u001b[39m\u001b[39m.\u001b[39m_appalto \u001b[39m=\u001b[39m appalto\n",
      "\u001b[0;31mValueError\u001b[0m: Invalid value for `appalto`, must not be `None`"
     ]
    }
   ],
   "source": [
    "\n",
    "# Creazione dell'istanza di AnacFormA31Type e popolamento dei dati\n",
    "appalto = None\n",
    "lotti = None\n",
    "anac_form_instance = AnacFormPLBaseType(appalto=appalto)\n",
    "# Popolare anac_form_instance con i dati necessari\n"
   ]
  },
  {
   "cell_type": "code",
   "execution_count": 15,
   "metadata": {},
   "outputs": [
    {
     "ename": "NameError",
     "evalue": "name 'anac_form_instance' is not defined",
     "output_type": "error",
     "traceback": [
      "\u001b[0;31m---------------------------------------------------------------------------\u001b[0m",
      "\u001b[0;31mNameError\u001b[0m                                 Traceback (most recent call last)",
      "\u001b[1;32m/home/andrea/scripts/python_api_client/2.ipynb Cell 26\u001b[0m line \u001b[0;36m2\n\u001b[1;32m      <a href='vscode-notebook-cell://wsl%2Bubuntu-20.04/home/andrea/scripts/python_api_client/2.ipynb#X41sdnNjb2RlLXJlbW90ZQ%3D%3D?line=0'>1</a>\u001b[0m \u001b[39m# Creazione dell'istanza di SchedaA31Type con l'anac_form popolato\u001b[39;00m\n\u001b[0;32m----> <a href='vscode-notebook-cell://wsl%2Bubuntu-20.04/home/andrea/scripts/python_api_client/2.ipynb#X41sdnNjb2RlLXJlbW90ZQ%3D%3D?line=1'>2</a>\u001b[0m scheda_PL11_instance \u001b[39m=\u001b[39m SchedaPL11Type(anac_form\u001b[39m=\u001b[39manac_form_instance)\n",
      "\u001b[0;31mNameError\u001b[0m: name 'anac_form_instance' is not defined"
     ]
    }
   ],
   "source": [
    "\n",
    "# Creazione dell'istanza di SchedaA31Type con l'anac_form popolato\n",
    "scheda_PL11_instance = SchedaPL11Type(anac_form=anac_form_instance)\n"
   ]
  },
  {
   "cell_type": "code",
   "execution_count": null,
   "metadata": {},
   "outputs": [],
   "source": [
    "\n",
    "# Utilizzare scheda_a31_instance nella tua richiesta API\n",
    "# Assumendo che scheda_a31_instance sia il tipo corretto per la tua richiesta\n",
    "body = swagger_client.CreaAppaltoRequest(scheda=scheda_PL11_instance)\n",
    "\n",
    "# Creazione dell'istanza dell'API class\n",
    "api_instance = swagger_client.ComunicaAppaltoApi(swagger_client.ApiClient(configuration))\n",
    "\n",
    "try:\n",
    "    # API Rest per la creazione di un Appalto. SINCRONO\n",
    "    api_response = api_instance.id_appalto_crea(body)\n",
    "    pprint(api_response)\n",
    "except ApiException as e:\n",
    "    print(\"Exception when calling ComunicaAppaltoApi->id_appalto_crea: %s\\n\" % e)\n"
   ]
  }
 ],
 "metadata": {
  "kernelspec": {
   "display_name": "env",
   "language": "python",
   "name": "python3"
  },
  "language_info": {
   "codemirror_mode": {
    "name": "ipython",
    "version": 3
   },
   "file_extension": ".py",
   "mimetype": "text/x-python",
   "name": "python",
   "nbconvert_exporter": "python",
   "pygments_lexer": "ipython3",
   "version": "3.8.10"
  }
 },
 "nbformat": 4,
 "nbformat_minor": 2
}
