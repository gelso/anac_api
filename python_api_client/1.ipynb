{
 "cells": [
  {
   "cell_type": "code",
   "execution_count": 1,
   "metadata": {},
   "outputs": [],
   "source": [
    "from __future__ import print_function\n",
    "import time\n",
    "import swagger_client\n",
    "from swagger_client.rest import ApiException\n",
    "from pprint import pprint"
   ]
  },
  {
   "cell_type": "code",
   "execution_count": 2,
   "metadata": {},
   "outputs": [],
   "source": [
    "# Configure API key authorization: apiKeyAuth\n",
    "configuration = swagger_client.Configuration()\n",
    "configuration.api_key['apiKeyAuth'] = 'YOUR_API_KEY'\n",
    "# Uncomment below to setup prefix (e.g. Bearer) for API key, if needed\n",
    "# configuration.api_key_prefix['apiKeyAuth'] = 'Bearer'"
   ]
  },
  {
   "cell_type": "code",
   "execution_count": 11,
   "metadata": {},
   "outputs": [],
   "source": [
    "# configuration.host = \"https://api.example.com/api/v1\"\n",
    "configuration.host = \"http://192.168.10.62:8080\"\n",
    "# https://repositorydocument.swagger.io/api/v1\n",
    "# 192.168.10.62:8080"
   ]
  },
  {
   "cell_type": "code",
   "execution_count": 12,
   "metadata": {},
   "outputs": [],
   "source": [
    "# create an instance of the API class\n",
    "api_instance = swagger_client.CodeListApi(swagger_client.ApiClient(configuration))\n",
    "page = 1 # int | numero della pagina da visualizzare (optional) (default to 1)\n",
    "per_page = 20 # int | numero di elementi per pagina (optional) (default to 20)"
   ]
  },
  {
   "cell_type": "code",
   "execution_count": 13,
   "metadata": {},
   "outputs": [
    {
     "name": "stdout",
     "output_type": "stream",
     "text": [
      "{'current_page': -2147483648,\n",
      " 'detail': 'Object Validation Error',\n",
      " 'element_page': -2147483648,\n",
      " 'instance': 'http://example.com',\n",
      " 'result': [{'descrizione': 'cpv', 'id_tipologica': 'CPV'}],\n",
      " 'status': 400,\n",
      " 'title': 'There was a validation error',\n",
      " 'tot_pages': -2147483648,\n",
      " 'tot_rows': -2147483648,\n",
      " 'type': 'about:blank'}\n"
     ]
    }
   ],
   "source": [
    "try:\n",
    "    # API Rest per il recupero dell'elenco delle tipologiche disponibili. SINCRONO\n",
    "    api_response = api_instance.id_recupera_elenco_tipologiche(page=page, per_page=per_page)\n",
    "    pprint(api_response)\n",
    "except ApiException as e:\n",
    "    print(\"Exception when calling CodeListApi->id_recupera_elenco_tipologiche: %s\\n\" % e)"
   ]
  },
  {
   "cell_type": "code",
   "execution_count": 14,
   "metadata": {},
   "outputs": [],
   "source": [
    "# create an instance of the API class\n",
    "api_instance = swagger_client.CodeListApi(swagger_client.ApiClient(configuration))\n",
    "id_tipologica = 'CPV' # str | Identificativo della tipologica\n",
    "codice = 'codice_example' # str | Codice del valore che si vuole recuperare dalla tipologica"
   ]
  },
  {
   "cell_type": "code",
   "execution_count": 15,
   "metadata": {},
   "outputs": [
    {
     "name": "stdout",
     "output_type": "stream",
     "text": [
      "{'detail': 'Object Validation Error',\n",
      " 'instance': 'http://example.com',\n",
      " 'status': 400,\n",
      " 'tipologica': None,\n",
      " 'title': 'There was a validation error',\n",
      " 'type': 'about:blank'}\n"
     ]
    }
   ],
   "source": [
    "try:\n",
    "    # API Rest per il recupero di un singolo item di una tipologica. SINCRONO\n",
    "    api_response = api_instance.id_recupera_item_tipologica(id_tipologica, codice)\n",
    "    pprint(api_response)\n",
    "except ApiException as e:\n",
    "    print(\"Exception when calling CodeListApi->id_recupera_item_tipologica: %s\\n\" % e)\n",
    "\n",
    "# il risultato è un errore, identico a postman\n"
   ]
  },
  {
   "cell_type": "code",
   "execution_count": 16,
   "metadata": {},
   "outputs": [
    {
     "name": "stdout",
     "output_type": "stream",
     "text": [
      "{'current_page': -2147483648,\n",
      " 'detail': 'Object Validation Error',\n",
      " 'element_page': -2147483648,\n",
      " 'instance': 'http://example.com',\n",
      " 'status': 400,\n",
      " 'tipologica': {'descrizione': 'cpv', 'elenco': [None], 'id_tipologica': 'CPV'},\n",
      " 'title': 'There was a validation error',\n",
      " 'tot_pages': -2147483648,\n",
      " 'tot_rows': -2147483648,\n",
      " 'type': 'about:blank'}\n"
     ]
    }
   ],
   "source": [
    "id_tipologica = 'id_tipologica_example' # str | Identificativo della tipologica\n",
    "data_inizio = '2013-10-20T19:20:30+01:00' # datetime | Data di inizio (A date-time specified by ISO 8601 as profiled by RFC 3339) (optional)\n",
    "data_fine = '2013-10-20T19:20:30+01:00' # datetime | Data di fine (A date-time specified by ISO 8601 as profiled by RFC 3339) (optional)\n",
    "page = 1 # int | numero della pagina da visualizzare (optional) (default to 1)\n",
    "per_page = 20 # int | numero di elementi per pagina (optional) (default to 20)\n",
    "\n",
    "try:\n",
    "    # API Rest per il recupero di una specifica tipologica. SINCRONO\n",
    "    api_response = api_instance.id_recupera_tipologica(id_tipologica, data_inizio=data_inizio, data_fine=data_fine, page=page, per_page=per_page)\n",
    "    pprint(api_response)\n",
    "except ApiException as e:\n",
    "    print(\"Exception when calling CodeListApi->id_recupera_tipologica: %s\\n\" % e)"
   ]
  }
 ],
 "metadata": {
  "kernelspec": {
   "display_name": "env",
   "language": "python",
   "name": "python3"
  },
  "language_info": {
   "codemirror_mode": {
    "name": "ipython",
    "version": 3
   },
   "file_extension": ".py",
   "mimetype": "text/x-python",
   "name": "python",
   "nbconvert_exporter": "python",
   "pygments_lexer": "ipython3",
   "version": "3.8.10"
  }
 },
 "nbformat": 4,
 "nbformat_minor": 2
}
